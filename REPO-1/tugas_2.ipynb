{
  "nbformat": 4,
  "nbformat_minor": 0,
  "metadata": {
    "colab": {
      "provenance": []
    },
    "kernelspec": {
      "name": "python3",
      "display_name": "Python 3"
    },
    "language_info": {
      "name": "python"
    }
  },
  "cells": [
    {
      "cell_type": "markdown",
      "source": [
        "**IMPROVISASI PADA FOLDER PythonBasic**"
      ],
      "metadata": {
        "id": "HYVXwRa7f-kz"
      }
    },
    {
      "cell_type": "code",
      "source": [
        "# Latihan The Print Function\n",
        "print(\"Programming***Essentials***in...Python\")\n",
        "\n",
        "# Latihan: Hello Python\n",
        "print(\"Hello, Python!\")\n",
        "\n",
        "# Latihan Cetak Nama\n",
        "print(\"Restu\")\n",
        "print('Restu')\n",
        "\n",
        "# [Latihan: Karakter Spesial]\n",
        "print(\"\\nSaya sudah sarapan tadi pagi\\n dan nanti siang makan lagi\")\n",
        "print(\"Saya sudah sarapan tadi pagi\\t dan nanti siang makan lagi\")\n",
        "\n",
        "# Latihan Escaping Karakter\n",
        "print(\"Nama saya \\\"Restu\\\"\")\n",
        "\n",
        "# Latihan Separator dan End\n",
        "print(\"satu\", \"dua\", \"tiga\", sep=\", \")\n",
        "print(\"Nama saya\", \"Restu\", end=\" \")\n",
        "print(\"Ardiansyah\")\n",
        "\n",
        "# Latihan: Pola Bintang\n",
        "print(\"    *        *    \")\n",
        "print(\"   * *      * *   \")\n",
        "print(\"  *   *    *   *  \")\n",
        "print(\" *     *  *     * \")\n",
        "print(\"***   ******   ***\")\n",
        "print(\"  *   *    *   *  \")\n",
        "print(\"  *   *    *   *  \")\n",
        "print(\"  *****    *****  \")\n"
      ],
      "metadata": {
        "colab": {
          "base_uri": "https://localhost:8080/"
        },
        "id": "hxFGYfwFhYru",
        "outputId": "a56eadb3-cd10-4a51-b157-d591d62e4d0f"
      },
      "execution_count": 34,
      "outputs": [
        {
          "output_type": "stream",
          "name": "stdout",
          "text": [
            "Programming***Essentials***in...Python\n",
            "Hello, Python!\n",
            "Restu\n",
            "Restu\n",
            "\n",
            "Saya sudah sarapan tadi pagi\n",
            " dan nanti siang makan lagi\n",
            "Saya sudah sarapan tadi pagi\t dan nanti siang makan lagi\n",
            "Nama saya \"Restu\"\n",
            "satu, dua, tiga\n",
            "Nama saya Restu Ardiansyah\n",
            "    *        *    \n",
            "   * *      * *   \n",
            "  *   *    *   *  \n",
            " *     *  *     * \n",
            "***   ******   ***\n",
            "  *   *    *   *  \n",
            "  *   *    *   *  \n",
            "  *****    *****  \n"
          ]
        }
      ]
    },
    {
      "cell_type": "code",
      "execution_count": 35,
      "metadata": {
        "colab": {
          "base_uri": "https://localhost:8080/"
        },
        "id": "-ifTGU0kWH2s",
        "outputId": "41e1cee0-fbef-4f55-aedf-59259a98de29"
      },
      "outputs": [
        {
          "output_type": "stream",
          "name": "stdout",
          "text": [
            "Penjumlahan: 20 + 10 = 30\n",
            "Pengurangan: 20 - 10 = 10\n",
            "Perkalian: 20 * 10 = 200\n",
            "Pembagian: 20 / 10 = 2.0\n",
            "Modulus: 20 % 10 = 0\n",
            "Perbandingan 20 > 10: True\n",
            "Perbandingan 20 == 10: False\n",
            "Grade: B\n",
            "Angka ke-1\n",
            "Angka ke-2\n",
            "Angka ke-3\n",
            "Angka ke-4\n",
            "Angka ke-5\n",
            "Perulangan while ke-1\n",
            "Perulangan while ke-2\n",
            "Perulangan while ke-3\n",
            "Perulangan while ke-4\n",
            "Perulangan while ke-5\n",
            "Daftar Nama:\n",
            "- Alice\n",
            "- Bob\n",
            "- Charlie\n",
            "- David\n",
            "x AND y: False\n",
            "x OR y: True\n",
            "NOT x: False\n"
          ]
        }
      ],
      "source": [
        "# latihan dari Python2-op_ifelse_iterasi_list_array\n",
        "\n",
        "# Demonstrasi operator aritmatika dan relasional\n",
        "a = 20\n",
        "b = 10\n",
        "print(f\"Penjumlahan: {a} + {b} = {a + b}\")\n",
        "print(f\"Pengurangan: {a} - {b} = {a - b}\")\n",
        "print(f\"Perkalian: {a} * {b} = {a * b}\")\n",
        "print(f\"Pembagian: {a} / {b} = {a / b}\")\n",
        "print(f\"Modulus: {a} % {b} = {a % b}\")\n",
        "print(f\"Perbandingan {a} > {b}: {a > b}\")\n",
        "print(f\"Perbandingan {a} == {b}: {a == b}\")\n",
        "\n",
        "# Struktur if-elif-else\n",
        "nilai = 85\n",
        "if nilai >= 90:\n",
        "    print(\"Grade: A\")\n",
        "elif nilai >= 80:\n",
        "    print(\"Grade: B\")\n",
        "elif nilai >= 70:\n",
        "    print(\"Grade: C\")\n",
        "else:\n",
        "    print(\"Grade: D\")\n",
        "\n",
        "# Perulangan for (menampilkan angka 1-5)\n",
        "for i in range(1, 6):\n",
        "    print(f\"Angka ke-{i}\")\n",
        "\n",
        "# Perulangan while (menampilkan angka 1-5)\n",
        "i = 1\n",
        "while i <= 5:\n",
        "    print(f\"Perulangan while ke-{i}\")\n",
        "    i += 1\n",
        "\n",
        "# List dan array\n",
        "daftar_nama = [\"Alice\", \"Bob\", \"Charlie\", \"David\"]\n",
        "print(\"Daftar Nama:\")\n",
        "for nama in daftar_nama:\n",
        "    print(f\"- {nama}\")\n",
        "\n",
        "# Operasi logika\n",
        "x = True\n",
        "y = False\n",
        "print(f\"x AND y: {x and y}\")\n",
        "print(f\"x OR y: {x or y}\")\n",
        "print(f\"NOT x: {not x}\")\n"
      ]
    },
    {
      "cell_type": "code",
      "source": [
        "# kode latihan dari Python3-function_tuple_dict\n",
        "\n",
        "# Fungsi dengan parameter dan return value\n",
        "def luas_persegi(sisi):\n",
        "    return sisi * sisi\n",
        "\n",
        "print(f\"Luas persegi dengan sisi 4: {luas_persegi(4)}\")\n",
        "\n",
        "# Fungsi dengan default parameter\n",
        "def salam(nama=\"User\"):\n",
        "    print(f\"Halo, {nama}! Selamat datang.\")\n",
        "\n",
        "salam(\"Restu\")  # Menggunakan parameter\n",
        "salam()  # Menggunakan default parameter\n",
        "\n",
        "# Tuple (data tidak bisa diubah)\n",
        "data_tuple = (10, 20, 30, 40)\n",
        "print(f\"Data tuple: {data_tuple}\")\n",
        "print(f\"Elemen pertama: {data_tuple[0]}\")\n",
        "\n",
        "# Dictionary (key-value pairs)\n",
        "biodata = {\n",
        "    \"nama\": \"Restu\",\n",
        "    \"usia\": 22,\n",
        "    \"kota\": \"Jakarta\"\n",
        "}\n",
        "print(f\"Biodata: {biodata}\")\n",
        "print(f\"Nama: {biodata['nama']}\")\n",
        "print(f\"Usia: {biodata['usia']} tahun\")\n",
        "\n",
        "# Menampilkan semua key dan value dalam dictionary\n",
        "print(\"Detail Biodata:\")\n",
        "for key, value in biodata.items():\n",
        "    print(f\"- {key.capitalize()}: {value}\")\n"
      ],
      "metadata": {
        "colab": {
          "base_uri": "https://localhost:8080/"
        },
        "id": "tdMDVuJkf1Qe",
        "outputId": "b922e09a-04af-47f0-d3d7-ad612f94944e"
      },
      "execution_count": 36,
      "outputs": [
        {
          "output_type": "stream",
          "name": "stdout",
          "text": [
            "Luas persegi dengan sisi 4: 16\n",
            "Halo, Restu! Selamat datang.\n",
            "Halo, User! Selamat datang.\n",
            "Data tuple: (10, 20, 30, 40)\n",
            "Elemen pertama: 10\n",
            "Biodata: {'nama': 'Restu', 'usia': 22, 'kota': 'Jakarta'}\n",
            "Nama: Restu\n",
            "Usia: 22 tahun\n",
            "Detail Biodata:\n",
            "- Nama: Restu\n",
            "- Usia: 22\n",
            "- Kota: Jakarta\n"
          ]
        }
      ]
    },
    {
      "cell_type": "code",
      "source": [
        "# Eksekusi kode latihan dari Python4-Module_Packages\n",
        "\n",
        "# Menggunakan modul bawaan math\n",
        "import math\n",
        "\n",
        "angka = 25\n",
        "print(f\"Akar kuadrat dari {angka} adalah {math.sqrt(angka)}\")\n",
        "\n",
        "# Menggunakan modul datetime\n",
        "import datetime\n",
        "\n",
        "waktu_sekarang = datetime.datetime.now()\n",
        "print(f\"Waktu saat ini: {waktu_sekarang.strftime('%Y-%m-%d %H:%M:%S')}\")\n",
        "\n",
        "# Membuat dan menggunakan modul sendiri (dalam latihan ini, kita hanya membuat fungsi dalam file ini)\n",
        "def luas_lingkaran(radius):\n",
        "    return math.pi * radius * radius\n",
        "\n",
        "print(f\"Luas lingkaran dengan jari-jari 7: {luas_lingkaran(7)}\")\n",
        "\n",
        "# Demonstrasi penggunaan PIP (hanya sebagai contoh, tidak dapat dijalankan langsung di sini)\n",
        "print(\"Untuk menginstal package tambahan, gunakan perintah:\")\n",
        "print(\"pip install nama_package\")"
      ],
      "metadata": {
        "colab": {
          "base_uri": "https://localhost:8080/"
        },
        "id": "iBqrvdr6hKcb",
        "outputId": "7afba926-bdc4-469d-d606-206f9b00a96c"
      },
      "execution_count": 37,
      "outputs": [
        {
          "output_type": "stream",
          "name": "stdout",
          "text": [
            "Akar kuadrat dari 25 adalah 5.0\n",
            "Waktu saat ini: 2025-03-09 06:14:53\n",
            "Luas lingkaran dengan jari-jari 7: 153.93804002589985\n",
            "Untuk menginstal package tambahan, gunakan perintah:\n",
            "pip install nama_package\n"
          ]
        }
      ]
    },
    {
      "cell_type": "code",
      "source": [
        "# Python5 OOP\n",
        "\n",
        "# Membuat kelas Parrot\n",
        "class Parrot:\n",
        "    # Class attribute\n",
        "    species = \"bird\"\n",
        "\n",
        "    # Constructor dengan instance attributes\n",
        "    def __init__(self, name, age):\n",
        "        self.name = name\n",
        "        self.age = age\n",
        "\n",
        "# Membuat instance dari kelas Parrot\n",
        "papi = Parrot(\"Papi\", 3)\n",
        "greeny = Parrot(\"Greeny\", 5)\n",
        "\n",
        "# Mengakses class attribute dan instance attribute\n",
        "print(f\"{papi.name} adalah {papi.species} dan berusia {papi.age} tahun.\")\n",
        "print(f\"{greeny.name} adalah {greeny.species} dan berusia {greeny.age} tahun.\")\n",
        "\n",
        "# Membuat kelas Siswa\n",
        "class Siswa:\n",
        "    def __init__(self, nis, nama, alamat):\n",
        "        self.nis = nis\n",
        "        self.nama = nama\n",
        "        self.alamat = alamat\n",
        "        self.__mata_pelajaran = []\n",
        "        self.__nilai = []\n",
        "\n",
        "    def tampilkan(self):\n",
        "        print(\"=\"*20)\n",
        "        print(f\"NIS: {self.nis}, Nama: {self.nama}, Alamat: {self.alamat}\")\n",
        "        self.tampilkanNilai()\n",
        "        self.tampilkanRataNilai()\n",
        "        print(\"=\"*20)\n",
        "\n",
        "    def tambahNilai(self, mapel, nilai):\n",
        "        self.__mata_pelajaran.append(mapel)\n",
        "        self.__nilai.append(nilai)\n",
        "\n",
        "    def tampilkanNilai(self):\n",
        "        print(\"Daftar Nilai:\")\n",
        "        for i in range(len(self.__mata_pelajaran)):\n",
        "            print(f\"- {self.__mata_pelajaran[i]}: {self.__nilai[i]}\")\n",
        "\n",
        "    def tampilkanRataNilai(self):\n",
        "        if self.__nilai:\n",
        "            rata = sum(self.__nilai) / len(self.__nilai)\n",
        "            print(f\"Rata-rata nilai: {rata:.2f}\")\n",
        "        else:\n",
        "            print(\"Belum ada nilai.\")\n",
        "\n",
        "# Membuat objek siswa dan menambahkan nilai\n",
        "siswa1 = Siswa(\"12345\", \"Restu\", \"Jakarta\")\n",
        "siswa1.tambahNilai(\"Matematika\", 90)\n",
        "siswa1.tambahNilai(\"Bahasa Inggris\", 85)\n",
        "siswa1.tambahNilai(\"Fisika\", 88)\n",
        "\n",
        "# Menampilkan detail siswa\n",
        "siswa1.tampilkan()\n"
      ],
      "metadata": {
        "colab": {
          "base_uri": "https://localhost:8080/"
        },
        "id": "4WlzR5j-hjdu",
        "outputId": "5f4f96f8-a8a9-480e-d3ec-dfc324f1a0d6"
      },
      "execution_count": 39,
      "outputs": [
        {
          "output_type": "stream",
          "name": "stdout",
          "text": [
            "Papi adalah bird dan berusia 3 tahun.\n",
            "Greeny adalah bird dan berusia 5 tahun.\n",
            "====================\n",
            "NIS: 12345, Nama: Restu, Alamat: Jakarta\n",
            "Daftar Nilai:\n",
            "- Matematika: 90\n",
            "- Bahasa Inggris: 85\n",
            "- Fisika: 88\n",
            "Rata-rata nilai: 87.67\n",
            "====================\n"
          ]
        }
      ]
    }
  ]
}