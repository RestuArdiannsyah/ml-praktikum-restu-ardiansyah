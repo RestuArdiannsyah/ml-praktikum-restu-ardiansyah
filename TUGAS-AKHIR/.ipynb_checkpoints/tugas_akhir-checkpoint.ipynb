{
 "cells": [
  {
   "cell_type": "markdown",
   "id": "5a582071-a141-45b5-a295-ff9102cdb358",
   "metadata": {},
   "source": [
    "# Prediksi Risiko Diabetes dengan K-Nearest Neighbors (KNN)"
   ]
  },
  {
   "cell_type": "markdown",
   "id": "831b0c32-90a6-486c-b292-ed6a1f541fd1",
   "metadata": {},
   "source": [
    "##### Source Dataset: https://www.kaggle.com/datasets/mathchi/diabetes-data-set/data"
   ]
  },
  {
   "cell_type": "markdown",
   "id": "37bc9c34-e5f6-4bba-9d76-1ee11c0dd620",
   "metadata": {},
   "source": [
    "## 1. Data dan Preprocessing"
   ]
  },
  {
   "cell_type": "code",
   "execution_count": 59,
   "id": "cc3acd05-d3ba-419b-87ae-d2198249071e",
   "metadata": {},
   "outputs": [],
   "source": [
    "import pandas as pd\n",
    "import numpy as np\n",
    "import matplotlib.pyplot as plt\n",
    "import seaborn as sns5"
   ]
  },
  {
   "cell_type": "code",
   "execution_count": 60,
   "id": "b95715e1-9c29-47c9-86bd-c396068b195e",
   "metadata": {},
   "outputs": [],
   "source": [
    "data = pd.read_csv(\"dataset/diabetes.csv\")"
   ]
  },
  {
   "cell_type": "markdown",
   "id": "3124e984-f2b2-45f8-bca5-8df2113e788b",
   "metadata": {},
   "source": [
    "### - Menampiilkan data"
   ]
  },
  {
   "cell_type": "code",
   "execution_count": 61,
   "id": "c555101f-201a-414d-8f7d-197fda5108c8",
   "metadata": {},
   "outputs": [
    {
     "data": {
      "text/html": [
       "<div>\n",
       "<style scoped>\n",
       "    .dataframe tbody tr th:only-of-type {\n",
       "        vertical-align: middle;\n",
       "    }\n",
       "\n",
       "    .dataframe tbody tr th {\n",
       "        vertical-align: top;\n",
       "    }\n",
       "\n",
       "    .dataframe thead th {\n",
       "        text-align: right;\n",
       "    }\n",
       "</style>\n",
       "<table border=\"1\" class=\"dataframe\">\n",
       "  <thead>\n",
       "    <tr style=\"text-align: right;\">\n",
       "      <th></th>\n",
       "      <th>Pregnancies</th>\n",
       "      <th>Glucose</th>\n",
       "      <th>BloodPressure</th>\n",
       "      <th>SkinThickness</th>\n",
       "      <th>Insulin</th>\n",
       "      <th>BMI</th>\n",
       "      <th>DiabetesPedigreeFunction</th>\n",
       "      <th>Age</th>\n",
       "      <th>Outcome</th>\n",
       "    </tr>\n",
       "  </thead>\n",
       "  <tbody>\n",
       "    <tr>\n",
       "      <th>0</th>\n",
       "      <td>6</td>\n",
       "      <td>148</td>\n",
       "      <td>72</td>\n",
       "      <td>35</td>\n",
       "      <td>0</td>\n",
       "      <td>33.6</td>\n",
       "      <td>0.627</td>\n",
       "      <td>50</td>\n",
       "      <td>1</td>\n",
       "    </tr>\n",
       "    <tr>\n",
       "      <th>1</th>\n",
       "      <td>1</td>\n",
       "      <td>85</td>\n",
       "      <td>66</td>\n",
       "      <td>29</td>\n",
       "      <td>0</td>\n",
       "      <td>26.6</td>\n",
       "      <td>0.351</td>\n",
       "      <td>31</td>\n",
       "      <td>0</td>\n",
       "    </tr>\n",
       "    <tr>\n",
       "      <th>2</th>\n",
       "      <td>8</td>\n",
       "      <td>183</td>\n",
       "      <td>64</td>\n",
       "      <td>0</td>\n",
       "      <td>0</td>\n",
       "      <td>23.3</td>\n",
       "      <td>0.672</td>\n",
       "      <td>32</td>\n",
       "      <td>1</td>\n",
       "    </tr>\n",
       "    <tr>\n",
       "      <th>3</th>\n",
       "      <td>1</td>\n",
       "      <td>89</td>\n",
       "      <td>66</td>\n",
       "      <td>23</td>\n",
       "      <td>94</td>\n",
       "      <td>28.1</td>\n",
       "      <td>0.167</td>\n",
       "      <td>21</td>\n",
       "      <td>0</td>\n",
       "    </tr>\n",
       "    <tr>\n",
       "      <th>4</th>\n",
       "      <td>0</td>\n",
       "      <td>137</td>\n",
       "      <td>40</td>\n",
       "      <td>35</td>\n",
       "      <td>168</td>\n",
       "      <td>43.1</td>\n",
       "      <td>2.288</td>\n",
       "      <td>33</td>\n",
       "      <td>1</td>\n",
       "    </tr>\n",
       "    <tr>\n",
       "      <th>...</th>\n",
       "      <td>...</td>\n",
       "      <td>...</td>\n",
       "      <td>...</td>\n",
       "      <td>...</td>\n",
       "      <td>...</td>\n",
       "      <td>...</td>\n",
       "      <td>...</td>\n",
       "      <td>...</td>\n",
       "      <td>...</td>\n",
       "    </tr>\n",
       "    <tr>\n",
       "      <th>763</th>\n",
       "      <td>10</td>\n",
       "      <td>101</td>\n",
       "      <td>76</td>\n",
       "      <td>48</td>\n",
       "      <td>180</td>\n",
       "      <td>32.9</td>\n",
       "      <td>0.171</td>\n",
       "      <td>63</td>\n",
       "      <td>0</td>\n",
       "    </tr>\n",
       "    <tr>\n",
       "      <th>764</th>\n",
       "      <td>2</td>\n",
       "      <td>122</td>\n",
       "      <td>70</td>\n",
       "      <td>27</td>\n",
       "      <td>0</td>\n",
       "      <td>36.8</td>\n",
       "      <td>0.340</td>\n",
       "      <td>27</td>\n",
       "      <td>0</td>\n",
       "    </tr>\n",
       "    <tr>\n",
       "      <th>765</th>\n",
       "      <td>5</td>\n",
       "      <td>121</td>\n",
       "      <td>72</td>\n",
       "      <td>23</td>\n",
       "      <td>112</td>\n",
       "      <td>26.2</td>\n",
       "      <td>0.245</td>\n",
       "      <td>30</td>\n",
       "      <td>0</td>\n",
       "    </tr>\n",
       "    <tr>\n",
       "      <th>766</th>\n",
       "      <td>1</td>\n",
       "      <td>126</td>\n",
       "      <td>60</td>\n",
       "      <td>0</td>\n",
       "      <td>0</td>\n",
       "      <td>30.1</td>\n",
       "      <td>0.349</td>\n",
       "      <td>47</td>\n",
       "      <td>1</td>\n",
       "    </tr>\n",
       "    <tr>\n",
       "      <th>767</th>\n",
       "      <td>1</td>\n",
       "      <td>93</td>\n",
       "      <td>70</td>\n",
       "      <td>31</td>\n",
       "      <td>0</td>\n",
       "      <td>30.4</td>\n",
       "      <td>0.315</td>\n",
       "      <td>23</td>\n",
       "      <td>0</td>\n",
       "    </tr>\n",
       "  </tbody>\n",
       "</table>\n",
       "<p>768 rows × 9 columns</p>\n",
       "</div>"
      ],
      "text/plain": [
       "     Pregnancies  Glucose  BloodPressure  SkinThickness  Insulin   BMI  \\\n",
       "0              6      148             72             35        0  33.6   \n",
       "1              1       85             66             29        0  26.6   \n",
       "2              8      183             64              0        0  23.3   \n",
       "3              1       89             66             23       94  28.1   \n",
       "4              0      137             40             35      168  43.1   \n",
       "..           ...      ...            ...            ...      ...   ...   \n",
       "763           10      101             76             48      180  32.9   \n",
       "764            2      122             70             27        0  36.8   \n",
       "765            5      121             72             23      112  26.2   \n",
       "766            1      126             60              0        0  30.1   \n",
       "767            1       93             70             31        0  30.4   \n",
       "\n",
       "     DiabetesPedigreeFunction  Age  Outcome  \n",
       "0                       0.627   50        1  \n",
       "1                       0.351   31        0  \n",
       "2                       0.672   32        1  \n",
       "3                       0.167   21        0  \n",
       "4                       2.288   33        1  \n",
       "..                        ...  ...      ...  \n",
       "763                     0.171   63        0  \n",
       "764                     0.340   27        0  \n",
       "765                     0.245   30        0  \n",
       "766                     0.349   47        1  \n",
       "767                     0.315   23        0  \n",
       "\n",
       "[768 rows x 9 columns]"
      ]
     },
     "execution_count": 61,
     "metadata": {},
     "output_type": "execute_result"
    }
   ],
   "source": [
    "data"
   ]
  },
  {
   "cell_type": "markdown",
   "id": "b2923c3a-9d94-4f34-adea-4c097dbcafd9",
   "metadata": {},
   "source": [
    "### - Menampilkan tipedata di setiap kolom"
   ]
  },
  {
   "cell_type": "code",
   "execution_count": 62,
   "id": "4bc9f73a-2e58-4150-8ea1-5fdea2a89894",
   "metadata": {},
   "outputs": [
    {
     "name": "stdout",
     "output_type": "stream",
     "text": [
      "Pregnancies                   int64\n",
      "Glucose                       int64\n",
      "BloodPressure                 int64\n",
      "SkinThickness                 int64\n",
      "Insulin                       int64\n",
      "BMI                         float64\n",
      "DiabetesPedigreeFunction    float64\n",
      "Age                           int64\n",
      "Outcome                       int64\n",
      "dtype: object\n"
     ]
    }
   ],
   "source": [
    "print(data.dtypes)"
   ]
  },
  {
   "cell_type": "markdown",
   "id": "1367b766-e032-4e5a-86a6-3aac14eaed6c",
   "metadata": {},
   "source": [
    "### - Memilih kolom untuk di prediksi (Glucosee, BMI,, Age, DiabetesPedigreeFunction)"
   ]
  },
  {
   "cell_type": "code",
   "execution_count": 63,
   "id": "16da9edf-eb60-4a5f-bb0b-64b559e7d12d",
   "metadata": {},
   "outputs": [],
   "source": [
    "kolom_dipilih = ['Glucose', 'BMI', 'Age', 'DiabetesPedigreeFunction', 'Outcome']\n",
    "data = data[kolom_dipilih]"
   ]
  },
  {
   "cell_type": "markdown",
   "id": "d50a0cc1-fcbd-4416-926e-15b19bfbdf72",
   "metadata": {},
   "source": [
    "### - Visualisasi deskriptif Statistik"
   ]
  },
  {
   "cell_type": "code",
   "execution_count": 64,
   "id": "83e6a039-91bc-4cb5-8674-a1cb40b002aa",
   "metadata": {},
   "outputs": [
    {
     "data": {
      "text/html": [
       "<div>\n",
       "<style scoped>\n",
       "    .dataframe tbody tr th:only-of-type {\n",
       "        vertical-align: middle;\n",
       "    }\n",
       "\n",
       "    .dataframe tbody tr th {\n",
       "        vertical-align: top;\n",
       "    }\n",
       "\n",
       "    .dataframe thead th {\n",
       "        text-align: right;\n",
       "    }\n",
       "</style>\n",
       "<table border=\"1\" class=\"dataframe\">\n",
       "  <thead>\n",
       "    <tr style=\"text-align: right;\">\n",
       "      <th></th>\n",
       "      <th>Glucose</th>\n",
       "      <th>BMI</th>\n",
       "      <th>Age</th>\n",
       "      <th>DiabetesPedigreeFunction</th>\n",
       "      <th>Outcome</th>\n",
       "    </tr>\n",
       "  </thead>\n",
       "  <tbody>\n",
       "    <tr>\n",
       "      <th>count</th>\n",
       "      <td>768.000000</td>\n",
       "      <td>768.000000</td>\n",
       "      <td>768.000000</td>\n",
       "      <td>768.000000</td>\n",
       "      <td>768.000000</td>\n",
       "    </tr>\n",
       "    <tr>\n",
       "      <th>mean</th>\n",
       "      <td>120.894531</td>\n",
       "      <td>31.992578</td>\n",
       "      <td>33.240885</td>\n",
       "      <td>0.471876</td>\n",
       "      <td>0.348958</td>\n",
       "    </tr>\n",
       "    <tr>\n",
       "      <th>std</th>\n",
       "      <td>31.972618</td>\n",
       "      <td>7.884160</td>\n",
       "      <td>11.760232</td>\n",
       "      <td>0.331329</td>\n",
       "      <td>0.476951</td>\n",
       "    </tr>\n",
       "    <tr>\n",
       "      <th>min</th>\n",
       "      <td>0.000000</td>\n",
       "      <td>0.000000</td>\n",
       "      <td>21.000000</td>\n",
       "      <td>0.078000</td>\n",
       "      <td>0.000000</td>\n",
       "    </tr>\n",
       "    <tr>\n",
       "      <th>25%</th>\n",
       "      <td>99.000000</td>\n",
       "      <td>27.300000</td>\n",
       "      <td>24.000000</td>\n",
       "      <td>0.243750</td>\n",
       "      <td>0.000000</td>\n",
       "    </tr>\n",
       "    <tr>\n",
       "      <th>50%</th>\n",
       "      <td>117.000000</td>\n",
       "      <td>32.000000</td>\n",
       "      <td>29.000000</td>\n",
       "      <td>0.372500</td>\n",
       "      <td>0.000000</td>\n",
       "    </tr>\n",
       "    <tr>\n",
       "      <th>75%</th>\n",
       "      <td>140.250000</td>\n",
       "      <td>36.600000</td>\n",
       "      <td>41.000000</td>\n",
       "      <td>0.626250</td>\n",
       "      <td>1.000000</td>\n",
       "    </tr>\n",
       "    <tr>\n",
       "      <th>max</th>\n",
       "      <td>199.000000</td>\n",
       "      <td>67.100000</td>\n",
       "      <td>81.000000</td>\n",
       "      <td>2.420000</td>\n",
       "      <td>1.000000</td>\n",
       "    </tr>\n",
       "  </tbody>\n",
       "</table>\n",
       "</div>"
      ],
      "text/plain": [
       "          Glucose         BMI         Age  DiabetesPedigreeFunction  \\\n",
       "count  768.000000  768.000000  768.000000                768.000000   \n",
       "mean   120.894531   31.992578   33.240885                  0.471876   \n",
       "std     31.972618    7.884160   11.760232                  0.331329   \n",
       "min      0.000000    0.000000   21.000000                  0.078000   \n",
       "25%     99.000000   27.300000   24.000000                  0.243750   \n",
       "50%    117.000000   32.000000   29.000000                  0.372500   \n",
       "75%    140.250000   36.600000   41.000000                  0.626250   \n",
       "max    199.000000   67.100000   81.000000                  2.420000   \n",
       "\n",
       "          Outcome  \n",
       "count  768.000000  \n",
       "mean     0.348958  \n",
       "std      0.476951  \n",
       "min      0.000000  \n",
       "25%      0.000000  \n",
       "50%      0.000000  \n",
       "75%      1.000000  \n",
       "max      1.000000  "
      ]
     },
     "execution_count": 64,
     "metadata": {},
     "output_type": "execute_result"
    }
   ],
   "source": [
    "data[kolom_dipilih].describe()"
   ]
  },
  {
   "cell_type": "markdown",
   "id": "aa6a7a1c-5ef0-4325-a56e-7858ea8b2d4d",
   "metadata": {},
   "source": [
    "### - Data Cleaning"
   ]
  },
  {
   "cell_type": "code",
   "execution_count": 65,
   "id": "299283eb-f8ca-4705-8d72-3fec1a2983d4",
   "metadata": {},
   "outputs": [
    {
     "name": "stderr",
     "output_type": "stream",
     "text": [
      "C:\\Users\\RESTU ARDIANSYAH\\AppData\\Local\\Temp\\ipykernel_29644\\2008959895.py:3: SettingWithCopyWarning: \n",
      "A value is trying to be set on a copy of a slice from a DataFrame.\n",
      "Try using .loc[row_indexer,col_indexer] = value instead\n",
      "\n",
      "See the caveats in the documentation: https://pandas.pydata.org/pandas-docs/stable/user_guide/indexing.html#returning-a-view-versus-a-copy\n",
      "  data[kolom] = data[kolom].replace(0, np.nan)\n"
     ]
    }
   ],
   "source": [
    "kolom_tidak_valid = ['Glucose', 'BMI']\n",
    "for kolom in kolom_tidak_valid:\n",
    "    data[kolom] = data[kolom].replace(0, np.nan)"
   ]
  },
  {
   "cell_type": "markdown",
   "id": "9ba70343-49e9-4f63-a414-ef7d96ea938c",
   "metadata": {},
   "source": [
    "#### Mengisi nilai nan dengan median"
   ]
  },
  {
   "cell_type": "code",
   "execution_count": 66,
   "id": "05f460f7-7519-451c-8cb2-a6c655e98c5f",
   "metadata": {},
   "outputs": [],
   "source": [
    "data = data.fillna(data.median(numeric_only=True))"
   ]
  },
  {
   "cell_type": "markdown",
   "id": "d124682f-3c65-4cec-b693-d563d65efed9",
   "metadata": {},
   "source": [
    "#### Memisahkan fitur dan target"
   ]
  },
  {
   "cell_type": "code",
   "execution_count": 67,
   "id": "08e7c06b-b51d-4fb4-ad38-7ab868ae1a38",
   "metadata": {},
   "outputs": [],
   "source": [
    "X = data.drop('Outcome', axis=1)"
   ]
  },
  {
   "cell_type": "code",
   "execution_count": 68,
   "id": "5058f133-6e2c-4842-8461-49cabf87248c",
   "metadata": {},
   "outputs": [],
   "source": [
    "y = data['Outcome']"
   ]
  },
  {
   "cell_type": "code",
   "execution_count": 69,
   "id": "af7636fd-75d4-4fa7-873a-51971ca306fd",
   "metadata": {},
   "outputs": [
    {
     "name": "stdout",
     "output_type": "stream",
     "text": [
      "Glucose                     0\n",
      "BMI                         0\n",
      "Age                         0\n",
      "DiabetesPedigreeFunction    0\n",
      "Outcome                     0\n",
      "dtype: int64\n"
     ]
    }
   ],
   "source": [
    "data = data.fillna(data.median(numeric_only=True))\n",
    "\n",
    "# Cek hasil setelah imputasi\n",
    "print(data.isnull().sum()) "
   ]
  },
  {
   "cell_type": "markdown",
   "id": "674c3822-eec8-476e-a31f-2277594cb931",
   "metadata": {},
   "source": [
    "### - Featuer Scaling"
   ]
  },
  {
   "cell_type": "code",
   "execution_count": 70,
   "id": "373e36d3-b44a-42ba-9f80-a35bf8b13450",
   "metadata": {},
   "outputs": [],
   "source": [
    "from sklearn.preprocessing import StandardScaler"
   ]
  },
  {
   "cell_type": "markdown",
   "id": "f85f44bf-b5e8-4f6f-94be-6a16503c7e51",
   "metadata": {},
   "source": [
    "#### Membuat scaler dan fitur"
   ]
  },
  {
   "cell_type": "code",
   "execution_count": 71,
   "id": "7981b9e2-42a9-4b44-8cbe-9232f65d2c8a",
   "metadata": {},
   "outputs": [],
   "source": [
    "scaler = StandardScaler()\n",
    "X_scaled = scaler.fit_transform(X)"
   ]
  },
  {
   "cell_type": "markdown",
   "id": "3bd972f8-043a-41f2-94de-3509d909a549",
   "metadata": {},
   "source": [
    "#### Membuat dataframe dari hasil scaling"
   ]
  },
  {
   "cell_type": "code",
   "execution_count": 75,
   "id": "ec2e6bad-26b6-4cbf-97fd-f385a36dbee4",
   "metadata": {},
   "outputs": [],
   "source": [
    "X_scaled_df = pd.DataFrame(X_scaled, columns=X.columns)"
   ]
  },
  {
   "cell_type": "code",
   "execution_count": 76,
   "id": "64b9d8d9-347a-4165-97cd-ed608fd52a36",
   "metadata": {},
   "outputs": [
    {
     "data": {
      "text/plain": [
       "['scaler_knn.pkl']"
      ]
     },
     "execution_count": 76,
     "metadata": {},
     "output_type": "execute_result"
    }
   ],
   "source": [
    "import joblib\n",
    "joblib.dump(scaler, 'scaler_knn.pkl')"
   ]
  },
  {
   "cell_type": "markdown",
   "id": "be25a722-d4a4-4d71-b6f5-f5d76330ce4d",
   "metadata": {},
   "source": [
    "#### Menampilkan hasil"
   ]
  },
  {
   "cell_type": "code",
   "execution_count": 77,
   "id": "f8af8acb-6ee5-444f-b5b8-5d08f0a3845d",
   "metadata": {},
   "outputs": [
    {
     "name": "stdout",
     "output_type": "stream",
     "text": [
      "Data setelah scaling:\n",
      "    Glucose       BMI       Age  DiabetesPedigreeFunction\n",
      "0  0.866045  0.166619  1.425995                  0.468492\n",
      "1 -1.205066 -0.852200 -0.190672                 -0.365061\n",
      "2  2.016662 -1.332500 -0.105584                  0.604397\n",
      "3 -1.073567 -0.633881 -1.041549                 -0.920763\n",
      "4  0.504422  1.549303 -0.020496                  5.484909\n",
      "\n",
      "Statistik deskriptif setelah scaling:\n",
      "            Glucose           BMI           Age  DiabetesPedigreeFunction\n",
      "count  7.680000e+02  7.680000e+02  7.680000e+02              7.680000e+02\n",
      "mean   4.625929e-18  2.613650e-16  1.931325e-16              2.451743e-16\n",
      "std    1.000652e+00  1.000652e+00  1.000652e+00              1.000652e+00\n",
      "min   -2.552931e+00 -2.074783e+00 -1.041549e+00             -1.189553e+00\n",
      "25%   -7.201630e-01 -7.212087e-01 -7.862862e-01             -6.889685e-01\n",
      "50%   -1.530732e-01 -2.258989e-02 -3.608474e-01             -3.001282e-01\n",
      "75%    6.112653e-01  6.032562e-01  6.602056e-01              4.662269e-01\n",
      "max    2.542658e+00  5.042397e+00  4.063716e+00              5.883565e+00\n"
     ]
    }
   ],
   "source": [
    "print(\"Data setelah scaling:\")\n",
    "print(X_scaled_df.head())\n",
    "print(\"\\nStatistik deskriptif setelah scaling:\")\n",
    "print(X_scaled_df.describe())\n"
   ]
  },
  {
   "cell_type": "markdown",
   "id": "aa3735c4-5592-412a-949a-2fa4bae71c58",
   "metadata": {},
   "source": [
    "### - Seleksi Fitur"
   ]
  },
  {
   "cell_type": "markdown",
   "id": "3def2130-6198-431e-a189-97776fa7be1b",
   "metadata": {},
   "source": [
    "#### Menghitung korelasi antar fiutr"
   ]
  },
  {
   "cell_type": "code",
   "execution_count": 80,
   "id": "43ccaef6-313b-4156-9bd2-2c8f6d51f713",
   "metadata": {},
   "outputs": [
    {
     "name": "stdout",
     "output_type": "stream",
     "text": [
      "                           Glucose       BMI       Age  \\\n",
      "Glucose                   1.000000  0.231049  0.266909   \n",
      "BMI                       0.231049  1.000000  0.025597   \n",
      "Age                       0.266909  0.025597  1.000000   \n",
      "DiabetesPedigreeFunction  0.137327  0.153438  0.033561   \n",
      "\n",
      "                          DiabetesPedigreeFunction  \n",
      "Glucose                                   0.137327  \n",
      "BMI                                       0.153438  \n",
      "Age                                       0.033561  \n",
      "DiabetesPedigreeFunction                  1.000000  \n"
     ]
    }
   ],
   "source": [
    "correlation = X.corr()\n",
    "print(correlation)"
   ]
  },
  {
   "cell_type": "markdown",
   "id": "5bbe61b5-696f-46a5-bc05-ef77b0d689b6",
   "metadata": {},
   "source": [
    "## 2. Train/Test Split"
   ]
  },
  {
   "cell_type": "code",
   "execution_count": null,
   "id": "178a0819-bb40-4aa4-85f0-90f43392d4f8",
   "metadata": {},
   "outputs": [],
   "source": []
  }
 ],
 "metadata": {
  "kernelspec": {
   "display_name": "Python 3 (ipykernel)",
   "language": "python",
   "name": "python3"
  },
  "language_info": {
   "codemirror_mode": {
    "name": "ipython",
    "version": 3
   },
   "file_extension": ".py",
   "mimetype": "text/x-python",
   "name": "python",
   "nbconvert_exporter": "python",
   "pygments_lexer": "ipython3",
   "version": "3.11.9"
  }
 },
 "nbformat": 4,
 "nbformat_minor": 5
}
