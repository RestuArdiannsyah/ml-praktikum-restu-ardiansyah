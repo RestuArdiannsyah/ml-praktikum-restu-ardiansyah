{
 "cells": [
  {
   "cell_type": "markdown",
   "id": "03b88cc4-2dfa-423d-b9d1-6e864942a0ea",
   "metadata": {},
   "source": [
    "# Pseudo Labeling"
   ]
  },
  {
   "cell_type": "markdown",
   "id": "5f633462-90ca-4f1f-b9dd-31258e126ddf",
   "metadata": {},
   "source": [
    "##### Source dataset: https://www.kaggle.com/datasets/ashutoshdas563/train-and-test-datasets"
   ]
  },
  {
   "cell_type": "markdown",
   "id": "8ee34c5e-50f7-4b8d-a6b6-101a092f6835",
   "metadata": {},
   "source": [
    "##### import libary"
   ]
  },
  {
   "cell_type": "code",
   "execution_count": 34,
   "id": "6c984dbc-e4eb-46e7-8a79-e13db558ccb1",
   "metadata": {},
   "outputs": [],
   "source": [
    "import pandas as pd\n",
    "import numpy as np\n",
    "import matplotlib.pyplot as plt\n",
    "%matplotlib inline\n",
    "from sklearn.preprocessing import LabelEncoder "
   ]
  },
  {
   "cell_type": "markdown",
   "id": "0e7c46a3-1fbf-476b-95b0-d7608c7380fa",
   "metadata": {},
   "source": [
    "##### Membaca data"
   ]
  },
  {
   "cell_type": "code",
   "execution_count": 35,
   "id": "18732e26-a40e-4542-a18b-d43384c23f1b",
   "metadata": {},
   "outputs": [],
   "source": [
    "train = pd.read_csv('train.csv')\n",
    "test = pd.read_csv('test.csv')"
   ]
  },
  {
   "cell_type": "markdown",
   "id": "2be8d2db-82df-42cf-a033-c3e0b6d4615a",
   "metadata": {},
   "source": [
    "##### Preprocessing"
   ]
  },
  {
   "cell_type": "markdown",
   "id": "0c8f04bf-ce7a-4fa0-b155-85f57b9138db",
   "metadata": {},
   "source": [
    "##### Mean imputations"
   ]
  },
  {
   "cell_type": "code",
   "execution_count": 36,
   "id": "6df6f24a-5e79-4054-b51e-303003760183",
   "metadata": {},
   "outputs": [],
   "source": [
    "train['hours-per-week'] = train['hours-per-week'].fillna(train['hours-per-week'].mean())\n",
    "test['hours-per-week'] = test['hours-per-week'].fillna(test['hours-per-week'].mean())"
   ]
  },
  {
   "cell_type": "markdown",
   "id": "f7ac4124-c7a5-4129-9bfd-380c7aca3ab6",
   "metadata": {},
   "source": [
    "##### reducing fat content to only two categories "
   ]
  },
  {
   "cell_type": "code",
   "execution_count": 37,
   "id": "150ddab9-c543-423a-83ae-9a7be16c28f4",
   "metadata": {},
   "outputs": [],
   "source": [
    "train['gender'] = train['gender'].replace(['male', 'm', 'M', 'Male'], 'Male')\n",
    "train['gender'] = train['gender'].replace(['female', 'f', 'F', 'Female'], 'Female')\n",
    "\n",
    "test['gender'] = test['gender'].replace(['male', 'm', 'M', 'Male'], 'Male')\n",
    "test['gender'] = test['gender'].replace(['female', 'f', 'F', 'Female'], 'Female')"
   ]
  },
  {
   "cell_type": "markdown",
   "id": "b473aa34-3ec8-4ade-b6e6-17e74f564069",
   "metadata": {},
   "source": [
    "##### for calculating establishment age"
   ]
  },
  {
   "cell_type": "code",
   "execution_count": 38,
   "id": "10a714f5-7ec4-4370-a11a-94a5edaf107d",
   "metadata": {},
   "outputs": [],
   "source": [
    "train['age'] = 25 - train['age'] \n",
    "test['age'] = 25 - test['age'] "
   ]
  },
  {
   "cell_type": "markdown",
   "id": "77f5b792-9f2f-40fd-90d8-0029604f8fb3",
   "metadata": {},
   "source": [
    "##### mising values for divorced"
   ]
  },
  {
   "cell_type": "code",
   "execution_count": 39,
   "id": "fd2796a9-8578-44d6-bb8d-18bde0869301",
   "metadata": {},
   "outputs": [],
   "source": [
    "train['marital-status'] = train['marital-status'].fillna('Divorced')\n",
    "test['marital-status'] = test['marital-status'].fillna('Divorced')"
   ]
  },
  {
   "cell_type": "markdown",
   "id": "2a996f86-106d-474c-b54a-b25b5db3fb14",
   "metadata": {},
   "source": [
    "##### label encoding cate. var."
   ]
  },
  {
   "cell_type": "code",
   "execution_count": 49,
   "id": "a6ceb62e-f396-443e-a8cb-0f1edd1ec036",
   "metadata": {},
   "outputs": [
    {
     "name": "stderr",
     "output_type": "stream",
     "text": [
      "C:\\Users\\RESTU ARDIANSYAH\\AppData\\Local\\Temp\\ipykernel_18572\\2978839280.py:5: SettingWithCopyWarning: \n",
      "A value is trying to be set on a copy of a slice from a DataFrame.\n",
      "Try using .loc[row_indexer,col_indexer] = value instead\n",
      "\n",
      "See the caveats in the documentation: https://pandas.pydata.org/pandas-docs/stable/user_guide/indexing.html#returning-a-view-versus-a-copy\n",
      "  test['educational-num'] = 0\n",
      "C:\\Users\\RESTU ARDIANSYAH\\AppData\\Local\\Temp\\ipykernel_18572\\2978839280.py:21: SettingWithCopyWarning: \n",
      "A value is trying to be set on a copy of a slice from a DataFrame\n",
      "\n",
      "See the caveats in the documentation: https://pandas.pydata.org/pandas-docs/stable/user_guide/indexing.html#returning-a-view-versus-a-copy\n",
      "  test.drop('educational-num', axis=1, inplace=True)\n"
     ]
    }
   ],
   "source": [
    "# Kolom kategori yang ingin di-label encode\n",
    "col = ['age', 'native-country', 'race', 'education']\n",
    "\n",
    "# Tambahkan kolom dummy agar bisa digabung\n",
    "test['educational-num'] = 0\n",
    "\n",
    "# Gabungkan train dan test dengan pd.concat\n",
    "combi = pd.concat([train, test], ignore_index=True)\n",
    "\n",
    "# Lakukan label encoding untuk setiap kolom dalam col\n",
    "le = LabelEncoder()\n",
    "for i in col:\n",
    "    combi[i] = le.fit_transform(combi[i].astype(str))\n",
    "    combi[i] = combi[i].astype(int)\n",
    "\n",
    "# Pisahkan kembali ke train dan test\n",
    "train = combi[:train.shape[0]]\n",
    "test = combi[train.shape[0]:]\n",
    "\n",
    "# Hapus kolom dummy dari test\n",
    "test.drop('educational-num', axis=1, inplace=True)"
   ]
  },
  {
   "cell_type": "markdown",
   "id": "a2ba684e-6850-440f-b6d8-61a500180d35",
   "metadata": {},
   "source": [
    "##### removing id variables"
   ]
  },
  {
   "cell_type": "code",
   "execution_count": 51,
   "id": "f5654f23-7a5b-4b14-b1ac-19d70250528d",
   "metadata": {},
   "outputs": [],
   "source": [
    "training = train.drop(['fnlwgt','capital-gain','capital-loss'],axis=1)\n",
    "testing = test.drop(['fnlwgt','capital-gain','capital-loss'],axis=1)\n",
    "y_train = training['educational-num']\n",
    "training.drop('educational-num',axis=1,inplace=True)\n",
    "\n",
    "features = training.columns\n",
    "target = 'educational-num'\n",
    "\n",
    "X_train, X_test = training, testing"
   ]
  },
  {
   "cell_type": "markdown",
   "id": "edec1756-93d3-4b8e-9471-2e1710c8bdbf",
   "metadata": {},
   "source": [
    "##### Model Exploration"
   ]
  }
 ],
 "metadata": {
  "kernelspec": {
   "display_name": "Python 3 (ipykernel)",
   "language": "python",
   "name": "python3"
  },
  "language_info": {
   "codemirror_mode": {
    "name": "ipython",
    "version": 3
   },
   "file_extension": ".py",
   "mimetype": "text/x-python",
   "name": "python",
   "nbconvert_exporter": "python",
   "pygments_lexer": "ipython3",
   "version": "3.13.2"
  }
 },
 "nbformat": 4,
 "nbformat_minor": 5
}
