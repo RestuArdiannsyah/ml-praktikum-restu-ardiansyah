{
 "cells": [
  {
   "cell_type": "markdown",
   "id": "fbd2116e-8b29-424a-845b-63bb027f577c",
   "metadata": {},
   "source": [
    "# Data Cleaning"
   ]
  },
  {
   "cell_type": "markdown",
   "id": "bb360df8-2136-44ef-b81c-6bb54efe32c2",
   "metadata": {},
   "source": [
    "## Hands-ON"
   ]
  },
  {
   "cell_type": "markdown",
   "id": "84abb260-7219-4a83-b6f9-64616c9904c7",
   "metadata": {},
   "source": [
    "##### source dataset: https://www.kaggle.com/datasets/utkarshx27/movies-dataset"
   ]
  },
  {
   "cell_type": "markdown",
   "id": "1340cd67-9220-43ec-a22f-839b6c9ec0bd",
   "metadata": {},
   "source": [
    "##### Import Libary"
   ]
  },
  {
   "cell_type": "code",
   "execution_count": 74,
   "id": "279596da-8083-4c5b-8c13-5d7f5a4f417b",
   "metadata": {},
   "outputs": [],
   "source": [
    "import pandas as pd\n",
    "import numpy as np"
   ]
  },
  {
   "cell_type": "markdown",
   "id": "65d0d6fb-15c6-43fd-907c-993d4d3fd66c",
   "metadata": {},
   "source": [
    "##### Load Data"
   ]
  },
  {
   "cell_type": "code",
   "execution_count": null,
   "id": "d327430d-9755-408e-9cf9-78fb583abda0",
   "metadata": {},
   "outputs": [],
   "source": [
    "data = pd.read_csv(\"movie_dataset.csv\")\n",
    "data.head()"
   ]
  },
  {
   "cell_type": "markdown",
   "id": "012f9b94-a08b-465c-8dff-be5fa71e7a65",
   "metadata": {},
   "source": [
    "##### Periksa datanya masing masing variabl/collom/fitur dengan dtypes"
   ]
  },
  {
   "cell_type": "code",
   "execution_count": null,
   "id": "33d369d3-cc36-44c3-a1f3-dc45f5f1e216",
   "metadata": {},
   "outputs": [],
   "source": [
    "print(data.dtypes)"
   ]
  },
  {
   "cell_type": "markdown",
   "id": "590b3e57-d073-483a-a0d1-dcfa8cdca1ef",
   "metadata": {},
   "source": [
    "##### Melihat Statistik dasar"
   ]
  },
  {
   "cell_type": "code",
   "execution_count": null,
   "id": "9f559e52-c035-4347-b610-1ab46fa43f28",
   "metadata": {},
   "outputs": [],
   "source": [
    "data.describe()"
   ]
  },
  {
   "cell_type": "markdown",
   "id": "9e32f589-682b-47af-9a5c-236f39c91d83",
   "metadata": {},
   "source": [
    "## Membuang Drop Kolom"
   ]
  },
  {
   "cell_type": "markdown",
   "id": "2a857943-6e67-4357-8f41-b306aeb83f8e",
   "metadata": {},
   "source": [
    "##### Melihat pada entri pertama"
   ]
  },
  {
   "cell_type": "code",
   "execution_count": null,
   "id": "8366db14-ee01-41a8-a704-2113aad470db",
   "metadata": {},
   "outputs": [],
   "source": [
    "data.head()"
   ]
  },
  {
   "cell_type": "markdown",
   "id": "20b08db5-316e-4e02-bb2e-ca24d72bcec4",
   "metadata": {},
   "source": [
    "##### Memilih Kolom yang akan di drop"
   ]
  },
  {
   "cell_type": "code",
   "execution_count": null,
   "id": "91db5472-b3f7-4ecb-94ca-14c37362d285",
   "metadata": {},
   "outputs": [],
   "source": [
    "kolom_drop = [col for col in ['homepage', 'index', 'keywords', 'overview', \n",
    "                             'production_companies',\n",
    "                             'spoken_languages', 'status', 'tagline',\n",
    "                             'cast', 'crew'] \n",
    "              if col in data.columns]"
   ]
  },
  {
   "cell_type": "markdown",
   "id": "f2eaf6db-c7f5-45c8-9ac7-faa88c76679f",
   "metadata": {},
   "source": [
    "##### Melakukan drop pada data yang dipilih"
   ]
  },
  {
   "cell_type": "code",
   "execution_count": null,
   "id": "daffb3c8-56d9-4764-84f1-2e4705fc71fe",
   "metadata": {},
   "outputs": [],
   "source": [
    "data.drop(kolom_drop, inplace=True, axis=1)"
   ]
  },
  {
   "cell_type": "markdown",
   "id": "f129e116-9a9d-4bfa-8988-179892973537",
   "metadata": {},
   "source": [
    "##### inspeksi ulang dataframe, kolom yang tidak diinginkan dibuang"
   ]
  },
  {
   "cell_type": "code",
   "execution_count": null,
   "id": "8ef921e6-40b4-4fb3-a119-3dbf33c617df",
   "metadata": {},
   "outputs": [],
   "source": [
    "data.head()"
   ]
  },
  {
   "cell_type": "markdown",
   "id": "742500c2-2571-41fd-a321-4d77bfa8ad58",
   "metadata": {},
   "source": [
    "## Mengubah id di dataframe"
   ]
  },
  {
   "cell_type": "markdown",
   "id": "82bceca8-def6-4435-b229-bd3bfe617cc7",
   "metadata": {},
   "source": [
    "##### cek nilai untuk id"
   ]
  },
  {
   "cell_type": "code",
   "execution_count": null,
   "id": "4b19e07c-6945-401c-8944-b8d6d41bd07b",
   "metadata": {},
   "outputs": [],
   "source": [
    "data['id'].is_unique"
   ]
  },
  {
   "cell_type": "markdown",
   "id": "b6f5a272-dab7-4a11-85b7-20213777e4d5",
   "metadata": {},
   "source": [
    "##### ganti id yang ada pada kolom menggunakan set_index"
   ]
  },
  {
   "cell_type": "code",
   "execution_count": null,
   "id": "6ab70e44-400a-4022-bd14-b3357984ae23",
   "metadata": {},
   "outputs": [],
   "source": [
    "data = data.set_index('id')\n",
    "data.head()"
   ]
  },
  {
   "cell_type": "markdown",
   "id": "862b3b93-e11a-4138-8f5a-cb200b4ce2b7",
   "metadata": {},
   "source": [
    "##### Akses record ke 19995"
   ]
  },
  {
   "cell_type": "code",
   "execution_count": null,
   "id": "4e42dba2-cd4c-4dae-90fc-1efba4209a39",
   "metadata": {},
   "outputs": [],
   "source": [
    "data.loc[19995]"
   ]
  },
  {
   "cell_type": "markdown",
   "id": "4eafc260-60d9-4d88-84cf-cf5df8e1948a",
   "metadata": {},
   "source": [
    "# Merapihkan fields dalam data"
   ]
  },
  {
   "cell_type": "markdown",
   "id": "0a07eeff-c157-4d96-b79a-1d9c4b824104",
   "metadata": {},
   "source": [
    "##### Menghitung frekuensi nilai object"
   ]
  },
  {
   "cell_type": "code",
   "execution_count": null,
   "id": "3bc3803e-cf97-4e70-a4fe-ff82ce9d605f",
   "metadata": {},
   "outputs": [],
   "source": [
    "data.dtypes.value_counts()"
   ]
  },
  {
   "cell_type": "markdown",
   "id": "32b2e303-803d-490b-8048-7416af4a1196",
   "metadata": {},
   "source": [
    "##### seleksi data dari 1995 dengan output hanya pada field release_date"
   ]
  },
  {
   "cell_type": "code",
   "execution_count": null,
   "id": "706e33e1-26ef-43b7-affe-ed07ae72f7ab",
   "metadata": {},
   "outputs": [],
   "source": [
    "data.loc[1995:, 'release_date'].head(10)"
   ]
  },
  {
   "cell_type": "markdown",
   "id": "3a9f660c-9f6b-4a06-996d-4607c016bbcc",
   "metadata": {},
   "source": [
    "##### enggunakan ekspresi reguler (Regex) tunggal untuk mengekstrak tahun publikasi"
   ]
  },
  {
   "cell_type": "code",
   "execution_count": null,
   "id": "ff834f74-9a32-40f1-b446-cfe88dab8908",
   "metadata": {},
   "outputs": [],
   "source": [
    "regex = r'^(\\d{4})'"
   ]
  },
  {
   "cell_type": "markdown",
   "id": "682a76fd-169b-4796-b0ac-033ebd382fdf",
   "metadata": {},
   "source": [
    "##### jalankan regex di dataset"
   ]
  },
  {
   "cell_type": "code",
   "execution_count": null,
   "id": "bd79754f-a695-40a0-9fce-65bcaf48eea1",
   "metadata": {},
   "outputs": [],
   "source": [
    "extr = data['release_date'].str.extract(r'^(\\d{4})', expand=False)\n",
    "extr.head()"
   ]
  },
  {
   "cell_type": "markdown",
   "id": "91063626-a031-47ee-a114-dc9a14b92137",
   "metadata": {},
   "source": [
    "##### mendapatkan versi numeriknya dengan perintah pd.to_numeric"
   ]
  },
  {
   "cell_type": "code",
   "execution_count": null,
   "id": "dae2e678-5f65-4650-9f74-6a5d09c7a03d",
   "metadata": {},
   "outputs": [],
   "source": [
    "data['release_date'] = pd.to_numeric(extr)\n",
    "data['release_date'].dtype"
   ]
  },
  {
   "cell_type": "markdown",
   "id": "d4023d6f-79f2-4bb0-806d-c1a8df52179d",
   "metadata": {},
   "source": [
    "##### perhitungan pada nilai valid yang tersisa"
   ]
  },
  {
   "cell_type": "code",
   "execution_count": null,
   "id": "04bbbb59-399d-4196-af5e-5cbe447ca858",
   "metadata": {},
   "outputs": [],
   "source": [
    "data['release_date'].isnull().sum() / len(data)"
   ]
  },
  {
   "cell_type": "markdown",
   "id": "d1cec9cb-e985-4793-8f98-846c48dda76a",
   "metadata": {},
   "source": [
    "## Membersihkan Kolom dengan Kombinasi metode str dengan NumPy"
   ]
  },
  {
   "cell_type": "markdown",
   "id": "380404d3-de9e-4038-8114-5461558db97c",
   "metadata": {},
   "source": [
    "##### isi kolom 'director'"
   ]
  },
  {
   "cell_type": "code",
   "execution_count": null,
   "id": "2ab93e45-e0a4-4d9d-a15b-a6be264e1825",
   "metadata": {},
   "outputs": [],
   "source": [
    "data['director'].head(10)"
   ]
  },
  {
   "cell_type": "code",
   "execution_count": null,
   "id": "ee21f12d-329d-4ba0-addb-c477477f067d",
   "metadata": {},
   "outputs": [],
   "source": []
  }
 ],
 "metadata": {
  "kernelspec": {
   "display_name": "Python 3 (ipykernel)",
   "language": "python",
   "name": "python3"
  },
  "language_info": {
   "codemirror_mode": {
    "name": "ipython",
    "version": 3
   },
   "file_extension": ".py",
   "mimetype": "text/x-python",
   "name": "python",
   "nbconvert_exporter": "python",
   "pygments_lexer": "ipython3",
   "version": "3.13.2"
  }
 },
 "nbformat": 4,
 "nbformat_minor": 5
}
