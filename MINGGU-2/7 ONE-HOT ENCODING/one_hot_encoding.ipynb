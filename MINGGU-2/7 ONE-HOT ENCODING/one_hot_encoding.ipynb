{
 "cells": [
  {
   "cell_type": "markdown",
   "id": "97c7c960-2c75-4ef5-b27b-1dc8495a6727",
   "metadata": {},
   "source": [
    "# One-Hot Encoding"
   ]
  },
  {
   "cell_type": "markdown",
   "id": "8f78b96d-b4e5-488f-a2f2-593ecb86f61f",
   "metadata": {},
   "source": [
    "##### Source dataset: https://www.kaggle.com/datasets/uciml/german-credit"
   ]
  },
  {
   "cell_type": "markdown",
   "id": "c1085f7d-dac8-45e0-bdc8-0096bec9f4e2",
   "metadata": {},
   "source": [
    "##### Import libary"
   ]
  },
  {
   "cell_type": "code",
   "execution_count": 42,
   "id": "54dba5da-cbc9-4028-9d04-9ec03ec1c63c",
   "metadata": {},
   "outputs": [],
   "source": [
    "import random\n",
    "import pandas as pd\n",
    "import numpy as np"
   ]
  },
  {
   "cell_type": "markdown",
   "id": "fe900eed-d861-4f08-9a10-d06c87b43571",
   "metadata": {},
   "source": [
    "##### Membaca data mentah (raw data)"
   ]
  },
  {
   "cell_type": "code",
   "execution_count": 43,
   "id": "8229bd2a-f65b-4314-bc4a-e9a6f67b3356",
   "metadata": {},
   "outputs": [],
   "source": [
    "data = pd.read_csv('german_credit_data.csv', header=None)"
   ]
  },
  {
   "cell_type": "markdown",
   "id": "60fda29e-49c8-493e-b9df-b11cd7ba37a7",
   "metadata": {},
   "source": [
    "##### Membentuk list Fitur A1 - 10 (banyaknya 'A' mengikuti banyaknya kolom yang ada di dataset yang digunakan)"
   ]
  },
  {
   "cell_type": "code",
   "execution_count": 44,
   "id": "c691238c-b387-4820-b76c-2b3403d64f58",
   "metadata": {},
   "outputs": [],
   "source": [
    "varnames = ['A'+str(s) for s in range(1,11)]"
   ]
  },
  {
   "cell_type": "markdown",
   "id": "746b601f-0a66-4c26-bdc4-1a1e4238fcd9",
   "metadata": {},
   "source": [
    "##### Men-set masing-masing kolom dari data yang ada\n",
    "##### Hal ini dilakukan karena data mentah yang dipakai tidak memiliki judul fitur"
   ]
  },
  {
   "cell_type": "code",
   "execution_count": 45,
   "id": "7e6aa5c6-bbf7-479c-810f-4e2de369db66",
   "metadata": {},
   "outputs": [
    {
     "data": {
      "text/plain": [
       "['A1', 'A2', 'A3', 'A4', 'A5', 'A6', 'A7', 'A8', 'A9', 'A10']"
      ]
     },
     "execution_count": 45,
     "metadata": {},
     "output_type": "execute_result"
    }
   ],
   "source": [
    "data.columns = varnames\n",
    "varnames"
   ]
  },
  {
   "cell_type": "markdown",
   "id": "4b9899a2-89c0-4403-8f60-9ccdec1bf9a7",
   "metadata": {},
   "source": [
    "##### Mengganti data dengan nilai ? dengan nilai Nan"
   ]
  },
  {
   "cell_type": "code",
   "execution_count": 46,
   "id": "c3c94c4a-b51d-454d-a8b0-bcbdd1a9c58b",
   "metadata": {},
   "outputs": [],
   "source": [
    "data = data.replace('?', np.nan)"
   ]
  },
  {
   "cell_type": "markdown",
   "id": "0fe6d798-9145-4f6d-bc67-7b0a426134aa",
   "metadata": {},
   "source": [
    "##### merubah tipe data dari kolom A2 - A8"
   ]
  },
  {
   "cell_type": "code",
   "execution_count": 47,
   "id": "f0c75529-8a26-433b-9f87-8fc0b7d34cd7",
   "metadata": {},
   "outputs": [],
   "source": [
    "data['A2'] = pd.to_numeric(data['A2'], errors='coerce')  \n",
    "data['A8'] = pd.to_numeric(data['A8'], errors='coerce')"
   ]
  },
  {
   "cell_type": "markdown",
   "id": "3201f473-9786-4da9-ac18-0b8670bc1d11",
   "metadata": {},
   "source": [
    "##### Melakukan proses maping data text menjadi bentuk binary"
   ]
  },
  {
   "cell_type": "code",
   "execution_count": 48,
   "id": "1f8bdcc8-5069-4ab2-a038-1bd6b59934b5",
   "metadata": {},
   "outputs": [],
   "source": [
    "data['A10'] = data['A10'].map({'+':1, '-':0})"
   ]
  },
  {
   "cell_type": "markdown",
   "id": "47cc9820-11c5-424f-8e80-5d2abed015b0",
   "metadata": {},
   "source": [
    "##### membuat list dengan fitur data dengan jenis kategori dan jenis numerik"
   ]
  },
  {
   "cell_type": "code",
   "execution_count": 49,
   "id": "2191bb67-5575-4819-8457-0f70d79019a8",
   "metadata": {},
   "outputs": [],
   "source": [
    "cat_cols = [c for c in data.columns if data[c].dtypes=='O'] \n",
    "num_cols = [c for c in data.columns if data[c].dtypes!='O']"
   ]
  },
  {
   "cell_type": "markdown",
   "id": "d1490afb-466a-4aa6-a64f-3337a17a14e5",
   "metadata": {},
   "source": [
    "##### melakukan inputasi terhadap data yang kosong dengan nilai \n",
    "##### 0 untuk list data bernilai numerik\n",
    "##### Missing untuk data kolom fitur berjenis kategori"
   ]
  },
  {
   "cell_type": "code",
   "execution_count": 50,
   "id": "ddd32036-7f52-4bad-8bb9-ac4e5f700ed6",
   "metadata": {},
   "outputs": [],
   "source": [
    "data[num_cols] = data[num_cols].fillna(0) \n",
    "data[cat_cols] = data[cat_cols].fillna('Missing')"
   ]
  },
  {
   "cell_type": "markdown",
   "id": "21cd2af5-3973-40bd-ba3d-9ed841a71e73",
   "metadata": {},
   "source": [
    "##### menyimpan data yang telah di transformasi dalam bentuk csv"
   ]
  },
  {
   "cell_type": "code",
   "execution_count": 51,
   "id": "5178dae6-82d8-4281-ad5e-69aac27ef909",
   "metadata": {},
   "outputs": [],
   "source": [
    "data.to_csv('result_onehot_encoding.csv', index=False)"
   ]
  },
  {
   "cell_type": "markdown",
   "id": "c94aa077-7bb3-425d-a89f-bf3bc1db2374",
   "metadata": {},
   "source": [
    "##### cek hasil data"
   ]
  },
  {
   "cell_type": "code",
   "execution_count": 52,
   "id": "efbb6f86-c391-48f4-8c6d-fadd2aca5c64",
   "metadata": {},
   "outputs": [],
   "source": [
    "data_result = pd.read_csv('result_onehot_encoding.csv')"
   ]
  },
  {
   "cell_type": "code",
   "execution_count": 53,
   "id": "9c76d990-2bab-4d5f-b82c-c840b4b619a8",
   "metadata": {},
   "outputs": [
    {
     "data": {
      "text/html": [
       "<div>\n",
       "<style scoped>\n",
       "    .dataframe tbody tr th:only-of-type {\n",
       "        vertical-align: middle;\n",
       "    }\n",
       "\n",
       "    .dataframe tbody tr th {\n",
       "        vertical-align: top;\n",
       "    }\n",
       "\n",
       "    .dataframe thead th {\n",
       "        text-align: right;\n",
       "    }\n",
       "</style>\n",
       "<table border=\"1\" class=\"dataframe\">\n",
       "  <thead>\n",
       "    <tr style=\"text-align: right;\">\n",
       "      <th></th>\n",
       "      <th>A1</th>\n",
       "      <th>A2</th>\n",
       "      <th>A3</th>\n",
       "      <th>A4</th>\n",
       "      <th>A5</th>\n",
       "      <th>A6</th>\n",
       "      <th>A7</th>\n",
       "      <th>A8</th>\n",
       "      <th>A9</th>\n",
       "      <th>A10</th>\n",
       "    </tr>\n",
       "  </thead>\n",
       "  <tbody>\n",
       "    <tr>\n",
       "      <th>0</th>\n",
       "      <td>0.0</td>\n",
       "      <td>0.0</td>\n",
       "      <td>Sex</td>\n",
       "      <td>Job</td>\n",
       "      <td>Housing</td>\n",
       "      <td>Saving accounts</td>\n",
       "      <td>Checking account</td>\n",
       "      <td>0.0</td>\n",
       "      <td>Duration</td>\n",
       "      <td>0.0</td>\n",
       "    </tr>\n",
       "    <tr>\n",
       "      <th>1</th>\n",
       "      <td>0.0</td>\n",
       "      <td>67.0</td>\n",
       "      <td>male</td>\n",
       "      <td>2</td>\n",
       "      <td>own</td>\n",
       "      <td>Missing</td>\n",
       "      <td>little</td>\n",
       "      <td>1169.0</td>\n",
       "      <td>6</td>\n",
       "      <td>0.0</td>\n",
       "    </tr>\n",
       "    <tr>\n",
       "      <th>2</th>\n",
       "      <td>1.0</td>\n",
       "      <td>22.0</td>\n",
       "      <td>female</td>\n",
       "      <td>2</td>\n",
       "      <td>own</td>\n",
       "      <td>little</td>\n",
       "      <td>moderate</td>\n",
       "      <td>5951.0</td>\n",
       "      <td>48</td>\n",
       "      <td>0.0</td>\n",
       "    </tr>\n",
       "    <tr>\n",
       "      <th>3</th>\n",
       "      <td>2.0</td>\n",
       "      <td>49.0</td>\n",
       "      <td>male</td>\n",
       "      <td>1</td>\n",
       "      <td>own</td>\n",
       "      <td>little</td>\n",
       "      <td>Missing</td>\n",
       "      <td>2096.0</td>\n",
       "      <td>12</td>\n",
       "      <td>0.0</td>\n",
       "    </tr>\n",
       "    <tr>\n",
       "      <th>4</th>\n",
       "      <td>3.0</td>\n",
       "      <td>45.0</td>\n",
       "      <td>male</td>\n",
       "      <td>2</td>\n",
       "      <td>free</td>\n",
       "      <td>little</td>\n",
       "      <td>little</td>\n",
       "      <td>7882.0</td>\n",
       "      <td>42</td>\n",
       "      <td>0.0</td>\n",
       "    </tr>\n",
       "    <tr>\n",
       "      <th>...</th>\n",
       "      <td>...</td>\n",
       "      <td>...</td>\n",
       "      <td>...</td>\n",
       "      <td>...</td>\n",
       "      <td>...</td>\n",
       "      <td>...</td>\n",
       "      <td>...</td>\n",
       "      <td>...</td>\n",
       "      <td>...</td>\n",
       "      <td>...</td>\n",
       "    </tr>\n",
       "    <tr>\n",
       "      <th>996</th>\n",
       "      <td>995.0</td>\n",
       "      <td>31.0</td>\n",
       "      <td>female</td>\n",
       "      <td>1</td>\n",
       "      <td>own</td>\n",
       "      <td>little</td>\n",
       "      <td>Missing</td>\n",
       "      <td>1736.0</td>\n",
       "      <td>12</td>\n",
       "      <td>0.0</td>\n",
       "    </tr>\n",
       "    <tr>\n",
       "      <th>997</th>\n",
       "      <td>996.0</td>\n",
       "      <td>40.0</td>\n",
       "      <td>male</td>\n",
       "      <td>3</td>\n",
       "      <td>own</td>\n",
       "      <td>little</td>\n",
       "      <td>little</td>\n",
       "      <td>3857.0</td>\n",
       "      <td>30</td>\n",
       "      <td>0.0</td>\n",
       "    </tr>\n",
       "    <tr>\n",
       "      <th>998</th>\n",
       "      <td>997.0</td>\n",
       "      <td>38.0</td>\n",
       "      <td>male</td>\n",
       "      <td>2</td>\n",
       "      <td>own</td>\n",
       "      <td>little</td>\n",
       "      <td>Missing</td>\n",
       "      <td>804.0</td>\n",
       "      <td>12</td>\n",
       "      <td>0.0</td>\n",
       "    </tr>\n",
       "    <tr>\n",
       "      <th>999</th>\n",
       "      <td>998.0</td>\n",
       "      <td>23.0</td>\n",
       "      <td>male</td>\n",
       "      <td>2</td>\n",
       "      <td>free</td>\n",
       "      <td>little</td>\n",
       "      <td>little</td>\n",
       "      <td>1845.0</td>\n",
       "      <td>45</td>\n",
       "      <td>0.0</td>\n",
       "    </tr>\n",
       "    <tr>\n",
       "      <th>1000</th>\n",
       "      <td>999.0</td>\n",
       "      <td>27.0</td>\n",
       "      <td>male</td>\n",
       "      <td>2</td>\n",
       "      <td>own</td>\n",
       "      <td>moderate</td>\n",
       "      <td>moderate</td>\n",
       "      <td>4576.0</td>\n",
       "      <td>45</td>\n",
       "      <td>0.0</td>\n",
       "    </tr>\n",
       "  </tbody>\n",
       "</table>\n",
       "<p>1001 rows × 10 columns</p>\n",
       "</div>"
      ],
      "text/plain": [
       "         A1    A2      A3   A4       A5               A6                A7  \\\n",
       "0       0.0   0.0     Sex  Job  Housing  Saving accounts  Checking account   \n",
       "1       0.0  67.0    male    2      own          Missing            little   \n",
       "2       1.0  22.0  female    2      own           little          moderate   \n",
       "3       2.0  49.0    male    1      own           little           Missing   \n",
       "4       3.0  45.0    male    2     free           little            little   \n",
       "...     ...   ...     ...  ...      ...              ...               ...   \n",
       "996   995.0  31.0  female    1      own           little           Missing   \n",
       "997   996.0  40.0    male    3      own           little            little   \n",
       "998   997.0  38.0    male    2      own           little           Missing   \n",
       "999   998.0  23.0    male    2     free           little            little   \n",
       "1000  999.0  27.0    male    2      own         moderate          moderate   \n",
       "\n",
       "          A8        A9  A10  \n",
       "0        0.0  Duration  0.0  \n",
       "1     1169.0         6  0.0  \n",
       "2     5951.0        48  0.0  \n",
       "3     2096.0        12  0.0  \n",
       "4     7882.0        42  0.0  \n",
       "...      ...       ...  ...  \n",
       "996   1736.0        12  0.0  \n",
       "997   3857.0        30  0.0  \n",
       "998    804.0        12  0.0  \n",
       "999   1845.0        45  0.0  \n",
       "1000  4576.0        45  0.0  \n",
       "\n",
       "[1001 rows x 10 columns]"
      ]
     },
     "execution_count": 53,
     "metadata": {},
     "output_type": "execute_result"
    }
   ],
   "source": [
    "data_result"
   ]
  }
 ],
 "metadata": {
  "kernelspec": {
   "display_name": "Python 3 (ipykernel)",
   "language": "python",
   "name": "python3"
  },
  "language_info": {
   "codemirror_mode": {
    "name": "ipython",
    "version": 3
   },
   "file_extension": ".py",
   "mimetype": "text/x-python",
   "name": "python",
   "nbconvert_exporter": "python",
   "pygments_lexer": "ipython3",
   "version": "3.13.2"
  }
 },
 "nbformat": 4,
 "nbformat_minor": 5
}
