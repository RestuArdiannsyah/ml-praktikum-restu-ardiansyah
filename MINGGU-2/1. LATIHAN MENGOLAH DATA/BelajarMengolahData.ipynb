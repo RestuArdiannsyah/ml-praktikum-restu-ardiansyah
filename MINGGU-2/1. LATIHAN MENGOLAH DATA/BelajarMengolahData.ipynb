{
 "cells": [
  {
   "cell_type": "code",
   "execution_count": 2,
   "id": "75ef56cf-6a41-4006-a515-2fb34bf31bbe",
   "metadata": {},
   "outputs": [],
   "source": [
    "import pandas as pd"
   ]
  },
  {
   "cell_type": "markdown",
   "id": "986603c7-5a5d-4bc0-bfb4-cfb9720e0c40",
   "metadata": {},
   "source": [
    "##### Mengambil Darta Dari File CSV"
   ]
  },
  {
   "cell_type": "code",
   "execution_count": 3,
   "id": "6980b21f-6dff-482b-bfdb-fe1e44635961",
   "metadata": {},
   "outputs": [],
   "source": [
    "Tes = pd.read_csv(\"Tab.csv\")"
   ]
  },
  {
   "cell_type": "markdown",
   "id": "1dd9c457-02af-4720-b19c-ee9cced40323",
   "metadata": {},
   "source": [
    "##### Menampilkan data dari Variable (Tes) Yang telah menyimpan data CSV"
   ]
  },
  {
   "cell_type": "code",
   "execution_count": 4,
   "id": "3e288de9-8f35-4750-acd2-da7ac6aba085",
   "metadata": {},
   "outputs": [
    {
     "data": {
      "text/html": [
       "<div>\n",
       "<style scoped>\n",
       "    .dataframe tbody tr th:only-of-type {\n",
       "        vertical-align: middle;\n",
       "    }\n",
       "\n",
       "    .dataframe tbody tr th {\n",
       "        vertical-align: top;\n",
       "    }\n",
       "\n",
       "    .dataframe thead th {\n",
       "        text-align: right;\n",
       "    }\n",
       "</style>\n",
       "<table border=\"1\" class=\"dataframe\">\n",
       "  <thead>\n",
       "    <tr style=\"text-align: right;\">\n",
       "      <th></th>\n",
       "      <th>Nama</th>\n",
       "      <th>Klub</th>\n",
       "      <th>NomorPunggung</th>\n",
       "      <th>AsalNegara</th>\n",
       "      <th>TahunLahir</th>\n",
       "      <th>TotalGol</th>\n",
       "    </tr>\n",
       "  </thead>\n",
       "  <tbody>\n",
       "    <tr>\n",
       "      <th>0</th>\n",
       "      <td>Egy Maulana Vikri</td>\n",
       "      <td>De Graafschap</td>\n",
       "      <td>10</td>\n",
       "      <td>Indonesia</td>\n",
       "      <td>2001</td>\n",
       "      <td>8</td>\n",
       "    </tr>\n",
       "    <tr>\n",
       "      <th>1</th>\n",
       "      <td>Witan Sulaeman</td>\n",
       "      <td>SSV Jahn Regensburg</td>\n",
       "      <td>7</td>\n",
       "      <td>Indonesia</td>\n",
       "      <td>2002</td>\n",
       "      <td>5</td>\n",
       "    </tr>\n",
       "    <tr>\n",
       "      <th>2</th>\n",
       "      <td>Marc Klok</td>\n",
       "      <td>Persib Bandung</td>\n",
       "      <td>23</td>\n",
       "      <td>Belanda</td>\n",
       "      <td>1994</td>\n",
       "      <td>3</td>\n",
       "    </tr>\n",
       "    <tr>\n",
       "      <th>3</th>\n",
       "      <td>Evan Dimas</td>\n",
       "      <td>Bhayangkara FC</td>\n",
       "      <td>8</td>\n",
       "      <td>Indonesia</td>\n",
       "      <td>1996</td>\n",
       "      <td>2</td>\n",
       "    </tr>\n",
       "    <tr>\n",
       "      <th>4</th>\n",
       "      <td>Ricky Kambuaya</td>\n",
       "      <td>Dewa United</td>\n",
       "      <td>10</td>\n",
       "      <td>Indonesia</td>\n",
       "      <td>1997</td>\n",
       "      <td>4</td>\n",
       "    </tr>\n",
       "  </tbody>\n",
       "</table>\n",
       "</div>"
      ],
      "text/plain": [
       "                Nama                 Klub  NomorPunggung AsalNegara  \\\n",
       "0  Egy Maulana Vikri        De Graafschap             10  Indonesia   \n",
       "1     Witan Sulaeman  SSV Jahn Regensburg              7  Indonesia   \n",
       "2          Marc Klok       Persib Bandung             23    Belanda   \n",
       "3         Evan Dimas       Bhayangkara FC              8  Indonesia   \n",
       "4     Ricky Kambuaya          Dewa United             10  Indonesia   \n",
       "\n",
       "   TahunLahir  TotalGol  \n",
       "0        2001         8  \n",
       "1        2002         5  \n",
       "2        1994         3  \n",
       "3        1996         2  \n",
       "4        1997         4  "
      ]
     },
     "execution_count": 4,
     "metadata": {},
     "output_type": "execute_result"
    }
   ],
   "source": [
    "Tes"
   ]
  },
  {
   "cell_type": "markdown",
   "id": "63ca825b-6bc7-4aba-9fc3-e16ff359bb01",
   "metadata": {},
   "source": [
    "##### Menampilkan Data Dari Kolom (Nama)"
   ]
  },
  {
   "cell_type": "code",
   "execution_count": 5,
   "id": "06523f30-4760-4edf-b806-27317fad551e",
   "metadata": {},
   "outputs": [
    {
     "data": {
      "text/plain": [
       "0    Egy Maulana Vikri\n",
       "1       Witan Sulaeman\n",
       "2            Marc Klok\n",
       "3           Evan Dimas\n",
       "4       Ricky Kambuaya\n",
       "Name: Nama, dtype: object"
      ]
     },
     "execution_count": 5,
     "metadata": {},
     "output_type": "execute_result"
    }
   ],
   "source": [
    "Tes[\"Nama\"]"
   ]
  },
  {
   "cell_type": "code",
   "execution_count": 7,
   "id": "0bf01c3f-0148-40de-845b-6369d9b16c26",
   "metadata": {},
   "outputs": [],
   "source": [
    "import matplotlib.pyplot as plt"
   ]
  },
  {
   "cell_type": "markdown",
   "id": "97b13914-f2ea-4a31-a92d-2d90db97a399",
   "metadata": {},
   "source": [
    "##### Tahun Mengcopy dati kolom TahunLahir"
   ]
  },
  {
   "cell_type": "code",
   "execution_count": 8,
   "id": "3a91450a-5a90-468e-ad5e-6aae9d4b00f1",
   "metadata": {},
   "outputs": [],
   "source": [
    "tahun = [2001, 2002, 1994, 1996, 1997]"
   ]
  },
  {
   "cell_type": "code",
   "execution_count": 9,
   "id": "6483871d-bf4b-4b32-92a7-2c28ded5668e",
   "metadata": {},
   "outputs": [],
   "source": [
    "price = [2.5, 7.6, 9.7, 15.8, 22.9]"
   ]
  },
  {
   "cell_type": "code",
   "execution_count": 10,
   "id": "bfe06b0d-fb93-4bbe-8f45-88a54af1698c",
   "metadata": {},
   "outputs": [
    {
     "data": {
      "image/png": "[encoded data removed]",
      "text/plain": [
       "<Figure size 640x480 with 1 Axes>"
      ]
     },
     "metadata": {},
     "output_type": "display_data"
    }
   ],
   "source": [
    "plt.plot(tahun, price)\n",
    "plt.show()"
   ]
  },
  {
   "cell_type": "code",
   "execution_count": 11,
   "id": "8943718a-381e-4078-898f-03f754a87a7d",
   "metadata": {},
   "outputs": [
    {
     "data": {
      "text/plain": [
       "<matplotlib.collections.PathCollection at 0x2041c33f3d0>"
      ]
     },
     "execution_count": 11,
     "metadata": {},
     "output_type": "execute_result"
    },
    {
     "data": {
      "image/png": "[encoded data removed]",
      "text/plain": [
       "<Figure size 640x480 with 1 Axes>"
      ]
     },
     "metadata": {},
     "output_type": "display_data"
    }
   ],
   "source": [
    "plt.scatter(tahun,price)"
   ]
  },
  {
   "cell_type": "code",
   "execution_count": 12,
   "id": "9115a2c2-ae20-4d72-8dc1-d0ee2978ff4f",
   "metadata": {},
   "outputs": [
    {
     "data": {
      "text/plain": [
       "<BarContainer object of 5 artists>"
      ]
     },
     "execution_count": 12,
     "metadata": {},
     "output_type": "execute_result"
    },
    {
     "data": {
      "image/png": "[encoded data removed]",
      "text/plain": [
       "<Figure size 640x480 with 1 Axes>"
      ]
     },
     "metadata": {},
     "output_type": "display_data"
    }
   ],
   "source": [
    "plt.bar(tahun,price)"
   ]
  },
  {
   "cell_type": "code",
   "execution_count": null,
   "id": "f13e0844-2cd9-41d2-b44f-fafc3c38cdbf",
   "metadata": {},
   "outputs": [],
   "source": []
  },
  {
   "cell_type": "code",
   "execution_count": null,
   "id": "986aae47-65c8-4782-a9c8-68a16b066542",
   "metadata": {},
   "outputs": [],
   "source": []
  },
  {
   "cell_type": "code",
   "execution_count": null,
   "id": "49189913-9863-437f-8b90-03b52d98dc2c",
   "metadata": {},
   "outputs": [],
   "source": []
  },
  {
   "cell_type": "code",
   "execution_count": null,
   "id": "0f113181-5a2e-4d41-8f5c-36b1ff981194",
   "metadata": {},
   "outputs": [],
   "source": []
  }
 ],
 "metadata": {
  "kernelspec": {
   "display_name": "Python 3 (ipykernel)",
   "language": "python",
   "name": "python3"
  },
  "language_info": {
   "codemirror_mode": {
    "name": "ipython",
    "version": 3
   },
   "file_extension": ".py",
   "mimetype": "text/x-python",
   "name": "python",
   "nbconvert_exporter": "python",
   "pygments_lexer": "ipython3",
   "version": "3.11.9"
  }
 },
 "nbformat": 4,
 "nbformat_minor": 5
}
