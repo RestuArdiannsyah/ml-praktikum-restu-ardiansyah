{
 "cells": [
  {
   "cell_type": "code",
   "execution_count": 10,
   "id": "d7bc12c9-73bd-403d-9585-e379a8a95dfe",
   "metadata": {},
   "outputs": [
    {
     "ename": "IndexError",
     "evalue": "index 23 is out of bounds for axis 1 with size 23",
     "output_type": "error",
     "traceback": [
      "\u001b[31m---------------------------------------------------------------------------\u001b[39m",
      "\u001b[31mIndexError\u001b[39m                                Traceback (most recent call last)",
      "\u001b[36mCell\u001b[39m\u001b[36m \u001b[39m\u001b[32mIn[10]\u001b[39m\u001b[32m, line 27\u001b[39m\n\u001b[32m     24\u001b[39m num_classes = \u001b[38;5;28mlen\u001b[39m(np.unique(y_train))\n\u001b[32m     26\u001b[39m \u001b[38;5;66;03m# One-hot encode label\u001b[39;00m\n\u001b[32m---> \u001b[39m\u001b[32m27\u001b[39m y_train = \u001b[43mkeras\u001b[49m\u001b[43m.\u001b[49m\u001b[43mutils\u001b[49m\u001b[43m.\u001b[49m\u001b[43mto_categorical\u001b[49m\u001b[43m(\u001b[49m\u001b[43my_train\u001b[49m\u001b[43m,\u001b[49m\u001b[43m \u001b[49m\u001b[43mnum_classes\u001b[49m\u001b[43m)\u001b[49m\n\u001b[32m     28\u001b[39m y_valid = keras.utils.to_categorical(y_valid, num_classes)\n\u001b[32m     30\u001b[39m \u001b[38;5;66;03m# Normalisasi piksel gambar\u001b[39;00m\n",
      "\u001b[36mFile \u001b[39m\u001b[32m~\\AppData\\Local\\Programs\\Python\\Python311\\Lib\\site-packages\\keras\\src\\utils\\numerical_utils.py:98\u001b[39m, in \u001b[36mto_categorical\u001b[39m\u001b[34m(x, num_classes)\u001b[39m\n\u001b[32m     96\u001b[39m batch_size = x.shape[\u001b[32m0\u001b[39m]\n\u001b[32m     97\u001b[39m categorical = np.zeros((batch_size, num_classes))\n\u001b[32m---> \u001b[39m\u001b[32m98\u001b[39m \u001b[43mcategorical\u001b[49m\u001b[43m[\u001b[49m\u001b[43mnp\u001b[49m\u001b[43m.\u001b[49m\u001b[43marange\u001b[49m\u001b[43m(\u001b[49m\u001b[43mbatch_size\u001b[49m\u001b[43m)\u001b[49m\u001b[43m,\u001b[49m\u001b[43m \u001b[49m\u001b[43mx\u001b[49m\u001b[43m]\u001b[49m = \u001b[32m1\u001b[39m\n\u001b[32m     99\u001b[39m output_shape = input_shape + (num_classes,)\n\u001b[32m    100\u001b[39m categorical = np.reshape(categorical, output_shape)\n",
      "\u001b[31mIndexError\u001b[39m: index 23 is out of bounds for axis 1 with size 23"
     ]
    }
   ],
   "source": [
    "import tensorflow.keras as keras\n",
    "import pandas as pd\n",
    "import numpy as np\n",
    "\n",
    "# Load dataset\n",
    "train_df = pd.read_csv(\"sign_mnist_train.csv\")\n",
    "valid_df = pd.read_csv(\"sign_mnist_test.csv\")\n",
    "\n",
    "# Hapus label 9 (J) dan 24 (Z)\n",
    "train_df = train_df[~train_df['label'].isin([9, 24])]\n",
    "valid_df = valid_df[~valid_df['label'].isin([9, 24])]\n",
    "\n",
    "# Ambil label\n",
    "y_train = train_df['label'].values\n",
    "y_valid = valid_df['label'].values\n",
    "train_df.drop(columns=['label'], inplace=True)\n",
    "valid_df.drop(columns=['label'], inplace=True)\n",
    "\n",
    "# Ambil data gambar\n",
    "x_train = train_df.values\n",
    "x_valid = valid_df.values\n",
    "\n",
    "# Hitung jumlah kelas dari label yang sudah difilter\n",
    "num_classes = len(np.unique(y_train))\n",
    "\n",
    "# One-hot encode label\n",
    "y_train = keras.utils.to_categorical(y_train, num_classes)\n",
    "y_valid = keras.utils.to_categorical(y_valid, num_classes)\n",
    "\n",
    "# Normalisasi piksel gambar\n",
    "x_train = x_train / 255.0\n",
    "x_valid = x_valid / 255.0\n"
   ]
  },
  {
   "cell_type": "code",
   "execution_count": null,
   "id": "728ddca0-6772-401c-abef-db49f04d2168",
   "metadata": {},
   "outputs": [],
   "source": []
  }
 ],
 "metadata": {
  "kernelspec": {
   "display_name": "Python 3 (ipykernel)",
   "language": "python",
   "name": "python3"
  },
  "language_info": {
   "codemirror_mode": {
    "name": "ipython",
    "version": 3
   },
   "file_extension": ".py",
   "mimetype": "text/x-python",
   "name": "python",
   "nbconvert_exporter": "python",
   "pygments_lexer": "ipython3",
   "version": "3.11.9"
  }
 },
 "nbformat": 4,
 "nbformat_minor": 5
}
